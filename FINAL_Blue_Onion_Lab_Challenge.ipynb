{
 "cells": [
  {
   "cell_type": "code",
   "execution_count": 2,
   "id": "ef546a1a",
   "metadata": {},
   "outputs": [],
   "source": [
    "import pandas as pd\n",
    "import json\n",
    "from sqlalchemy import create_engine\n",
    "from haversine import haversine"
   ]
  },
  {
   "cell_type": "code",
   "execution_count": 3,
   "id": "9e41cd26",
   "metadata": {},
   "outputs": [],
   "source": [
    "#READ JSON CONTENT\n",
    "with open('../dataset/starlink_historical_data.json') as f:\n",
    "    data = json.loads(f.read())\n",
    "df = pd.json_normalize(data) "
   ]
  },
  {
   "cell_type": "code",
   "execution_count": 4,
   "id": "c79850a6",
   "metadata": {},
   "outputs": [],
   "source": [
    "df = df[['id','spaceTrack.CREATION_DATE', 'longitude', 'latitude']]\n",
    "df.rename(columns = {'spaceTrack.CREATION_DATE':'creation_date'}, inplace = True)"
   ]
  },
  {
   "cell_type": "code",
   "execution_count": 5,
   "id": "eabc0fc9",
   "metadata": {},
   "outputs": [],
   "source": [
    "engine = create_engine('postgresql://postgres:postgres@db:5432/postgres')"
   ]
  },
  {
   "cell_type": "code",
   "execution_count": 6,
   "id": "ca832f60",
   "metadata": {},
   "outputs": [],
   "source": [
    "df.to_sql('starlink_historical_data', engine)"
   ]
  },
  {
   "cell_type": "code",
   "execution_count": 7,
   "id": "03432277",
   "metadata": {},
   "outputs": [
    {
     "data": {
      "text/html": [
       "<div>\n",
       "<style scoped>\n",
       "    .dataframe tbody tr th:only-of-type {\n",
       "        vertical-align: middle;\n",
       "    }\n",
       "\n",
       "    .dataframe tbody tr th {\n",
       "        vertical-align: top;\n",
       "    }\n",
       "\n",
       "    .dataframe thead th {\n",
       "        text-align: right;\n",
       "    }\n",
       "</style>\n",
       "<table border=\"1\" class=\"dataframe\">\n",
       "  <thead>\n",
       "    <tr style=\"text-align: right;\">\n",
       "      <th></th>\n",
       "      <th>index</th>\n",
       "      <th>id</th>\n",
       "      <th>creation_date</th>\n",
       "      <th>longitude</th>\n",
       "      <th>latitude</th>\n",
       "    </tr>\n",
       "  </thead>\n",
       "  <tbody>\n",
       "    <tr>\n",
       "      <th>0</th>\n",
       "      <td>0</td>\n",
       "      <td>5eed770f096e59000698560d</td>\n",
       "      <td>2020-10-13T04:16:08</td>\n",
       "      <td>86</td>\n",
       "      <td>NaN</td>\n",
       "    </tr>\n",
       "    <tr>\n",
       "      <th>1</th>\n",
       "      <td>1</td>\n",
       "      <td>5eed770f096e59000698560e</td>\n",
       "      <td>2020-09-28T19:26:08</td>\n",
       "      <td>48</td>\n",
       "      <td>NaN</td>\n",
       "    </tr>\n",
       "    <tr>\n",
       "      <th>2</th>\n",
       "      <td>2</td>\n",
       "      <td>5eed770f096e59000698560f</td>\n",
       "      <td>2020-10-13T17:46:09</td>\n",
       "      <td>62</td>\n",
       "      <td>NaN</td>\n",
       "    </tr>\n",
       "    <tr>\n",
       "      <th>3</th>\n",
       "      <td>3</td>\n",
       "      <td>5eed770f096e590006985610</td>\n",
       "      <td>2021-01-26T02:30:00</td>\n",
       "      <td>109</td>\n",
       "      <td>25.453949</td>\n",
       "    </tr>\n",
       "    <tr>\n",
       "      <th>4</th>\n",
       "      <td>4</td>\n",
       "      <td>5eed770f096e590006985611</td>\n",
       "      <td>2020-09-02T18:57:38</td>\n",
       "      <td>118</td>\n",
       "      <td>NaN</td>\n",
       "    </tr>\n",
       "  </tbody>\n",
       "</table>\n",
       "</div>"
      ],
      "text/plain": [
       "   index                        id        creation_date  longitude   latitude\n",
       "0      0  5eed770f096e59000698560d  2020-10-13T04:16:08         86        NaN\n",
       "1      1  5eed770f096e59000698560e  2020-09-28T19:26:08         48        NaN\n",
       "2      2  5eed770f096e59000698560f  2020-10-13T17:46:09         62        NaN\n",
       "3      3  5eed770f096e590006985610  2021-01-26T02:30:00        109  25.453949\n",
       "4      4  5eed770f096e590006985611  2020-09-02T18:57:38        118        NaN"
      ]
     },
     "execution_count": 7,
     "metadata": {},
     "output_type": "execute_result"
    }
   ],
   "source": [
    "df_pg = pd.read_sql_query('Select * from starlink_historical_data', con=engine)\n",
    "df_pg.head()"
   ]
  },
  {
   "cell_type": "code",
   "execution_count": 8,
   "id": "b5d4be47",
   "metadata": {},
   "outputs": [
    {
     "data": {
      "text/html": [
       "<div>\n",
       "<style scoped>\n",
       "    .dataframe tbody tr th:only-of-type {\n",
       "        vertical-align: middle;\n",
       "    }\n",
       "\n",
       "    .dataframe tbody tr th {\n",
       "        vertical-align: top;\n",
       "    }\n",
       "\n",
       "    .dataframe thead th {\n",
       "        text-align: right;\n",
       "    }\n",
       "</style>\n",
       "<table border=\"1\" class=\"dataframe\">\n",
       "  <thead>\n",
       "    <tr style=\"text-align: right;\">\n",
       "      <th></th>\n",
       "      <th>index</th>\n",
       "      <th>id</th>\n",
       "      <th>creation_date</th>\n",
       "      <th>longitude</th>\n",
       "      <th>latitude</th>\n",
       "      <th>id</th>\n",
       "      <th>creation_date</th>\n",
       "    </tr>\n",
       "  </thead>\n",
       "  <tbody>\n",
       "    <tr>\n",
       "      <th>0</th>\n",
       "      <td>0</td>\n",
       "      <td>5eed770f096e59000698560d</td>\n",
       "      <td>2020-10-13T04:16:08</td>\n",
       "      <td>86</td>\n",
       "      <td>NaN</td>\n",
       "      <td>5eed770f096e59000698560d</td>\n",
       "      <td>2020-10-13T04:16:08</td>\n",
       "    </tr>\n",
       "    <tr>\n",
       "      <th>1</th>\n",
       "      <td>1</td>\n",
       "      <td>5eed770f096e59000698560e</td>\n",
       "      <td>2020-09-28T19:26:08</td>\n",
       "      <td>48</td>\n",
       "      <td>NaN</td>\n",
       "      <td>5eed770f096e59000698560e</td>\n",
       "      <td>2020-09-28T19:26:08</td>\n",
       "    </tr>\n",
       "    <tr>\n",
       "      <th>2</th>\n",
       "      <td>2</td>\n",
       "      <td>5eed770f096e59000698560f</td>\n",
       "      <td>2020-10-13T17:46:09</td>\n",
       "      <td>62</td>\n",
       "      <td>NaN</td>\n",
       "      <td>5eed770f096e59000698560f</td>\n",
       "      <td>2020-10-13T17:46:09</td>\n",
       "    </tr>\n",
       "    <tr>\n",
       "      <th>3</th>\n",
       "      <td>3</td>\n",
       "      <td>5eed770f096e590006985610</td>\n",
       "      <td>2021-01-26T02:30:00</td>\n",
       "      <td>109</td>\n",
       "      <td>25.453949</td>\n",
       "      <td>5eed770f096e590006985610</td>\n",
       "      <td>2021-01-26T02:30:00</td>\n",
       "    </tr>\n",
       "    <tr>\n",
       "      <th>4</th>\n",
       "      <td>4</td>\n",
       "      <td>5eed770f096e590006985611</td>\n",
       "      <td>2020-09-02T18:57:38</td>\n",
       "      <td>118</td>\n",
       "      <td>NaN</td>\n",
       "      <td>5eed770f096e590006985611</td>\n",
       "      <td>2020-09-02T18:57:38</td>\n",
       "    </tr>\n",
       "  </tbody>\n",
       "</table>\n",
       "</div>"
      ],
      "text/plain": [
       "   index                        id        creation_date  longitude   latitude  \\\n",
       "0      0  5eed770f096e59000698560d  2020-10-13T04:16:08         86        NaN   \n",
       "1      1  5eed770f096e59000698560e  2020-09-28T19:26:08         48        NaN   \n",
       "2      2  5eed770f096e59000698560f  2020-10-13T17:46:09         62        NaN   \n",
       "3      3  5eed770f096e590006985610  2021-01-26T02:30:00        109  25.453949   \n",
       "4      4  5eed770f096e590006985611  2020-09-02T18:57:38        118        NaN   \n",
       "\n",
       "                         id        creation_date  \n",
       "0  5eed770f096e59000698560d  2020-10-13T04:16:08  \n",
       "1  5eed770f096e59000698560e  2020-09-28T19:26:08  \n",
       "2  5eed770f096e59000698560f  2020-10-13T17:46:09  \n",
       "3  5eed770f096e590006985610  2021-01-26T02:30:00  \n",
       "4  5eed770f096e590006985611  2020-09-02T18:57:38  "
      ]
     },
     "execution_count": 8,
     "metadata": {},
     "output_type": "execute_result"
    }
   ],
   "source": [
    "#PART 3\n",
    "#input parameter time to search\n",
    "time_to_search = '2022-01-01'\n",
    "\n",
    "query_last_position = \"\"\"\n",
    "select * \n",
    "from starlink_historical_data as s\n",
    "inner join \n",
    "  (select id, max(creation_date) as creation_date\n",
    "  from starlink_historical_data\n",
    "  where creation_date <= '%s'\n",
    "  group by id) as pivot \n",
    "on s.id = pivot.id and s.creation_date = pivot.creation_date\n",
    "order by s.id\n",
    "\"\"\"%time_to_search\n",
    "\n",
    "df_pg = pd.read_sql_query(query_last_position, con=engine)\n",
    "df_pg.head()"
   ]
  },
  {
   "cell_type": "code",
   "execution_count": 9,
   "id": "8c3dc2bc",
   "metadata": {},
   "outputs": [],
   "source": [
    "def calculate_haversine(row, input_coordinate):\n",
    "    result = abs(haversine((row['latitude'], row['longitude']), input_coordinate))\n",
    "    return pd.Series([result])"
   ]
  },
  {
   "cell_type": "code",
   "execution_count": 10,
   "id": "858edb7f",
   "metadata": {},
   "outputs": [
    {
     "data": {
      "text/plain": [
       "'closest satellite id id    5f5a9c1d2fd30c00065e5e64\\nid    5f5a9c1d2fd30c00065e5e64\\nName: 767, dtype: object'"
      ]
     },
     "execution_count": 10,
     "metadata": {},
     "output_type": "execute_result"
    }
   ],
   "source": [
    "#PART 4\n",
    "#input parameter time to search\n",
    "time_to_search = '2022-01-01'\n",
    "#input parameter time to search\n",
    "longitude_to_search = 150.0\n",
    "#input parameter time to search\n",
    "latitude_to_search = 24.5\n",
    "\n",
    "input_coordinate = (latitude_to_search, longitude_to_search)\n",
    "\n",
    "query_last_position = \"\"\"\n",
    "select * \n",
    "from starlink_historical_data as s\n",
    "inner join \n",
    "  (select id, max(creation_date) as creation_date\n",
    "  from starlink_historical_data\n",
    "  where creation_date <= '%s'\n",
    "  group by id) as pivot \n",
    "on s.id = pivot.id and s.creation_date = pivot.creation_date\n",
    "order by s.id\n",
    "\"\"\"%time_to_search\n",
    "\n",
    "df_pg = pd.read_sql_query(query_last_position, con=engine)\n",
    "df_pg.head()\n",
    "\n",
    "df_pg['haversine_result'] = df_pg.apply(lambda row: calculate_haversine(row, input_coordinate), axis=1)\n",
    "\n",
    "closest_one = df_pg.iloc[df_pg.haversine_result.idxmin()]\n",
    "\n",
    "'closest satellite id %s'%closest_one.id\n",
    "\n"
   ]
  }
 ],
 "metadata": {
  "kernelspec": {
   "display_name": "Python 3",
   "language": "python",
   "name": "python3"
  },
  "language_info": {
   "codemirror_mode": {
    "name": "ipython",
    "version": 3
   },
   "file_extension": ".py",
   "mimetype": "text/x-python",
   "name": "python",
   "nbconvert_exporter": "python",
   "pygments_lexer": "ipython3",
   "version": "3.9.2"
  }
 },
 "nbformat": 4,
 "nbformat_minor": 5
}
